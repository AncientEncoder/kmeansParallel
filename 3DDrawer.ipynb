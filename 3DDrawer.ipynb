{
 "cells": [
  {
   "cell_type": "code",
   "execution_count": 1,
   "metadata": {},
   "outputs": [],
   "source": [
    "import matplotlib.pyplot as plt\n",
    "import numpy as np\n",
    "import tqdm.notebook as tqdm\n",
    "#from mayavi import mlab\n"
   ]
  },
  {
   "cell_type": "code",
   "execution_count": 2,
   "metadata": {},
   "outputs": [],
   "source": [
    "cnames = ['red', 'orange', 'yellow', 'green', 'cyan', 'blue', 'purple']\n",
    "path = 'cmake-build-debug/result.txt'"
   ]
  },
  {
   "cell_type": "code",
   "execution_count": 3,
   "metadata": {},
   "outputs": [],
   "source": [
    "def dataReader(objectFilePath):\n",
    "    with open(objectFilePath) as file:\n",
    "        points = []\n",
    "        while 1:\n",
    "            line = file.readline()\n",
    "            if not line:\n",
    "                break\n",
    "            lines = line.split(\" \")\n",
    "            dataLine= [(float(lines[0]) * 100, float(lines[1]) * 100, float(lines[2]) * 100), int(lines[3])]\n",
    "            # print(lines)\n",
    "            points.append(dataLine)\n",
    "    points = np.array(points)\n",
    "    return points"
   ]
  },
  {
   "cell_type": "code",
   "execution_count": 4,
   "metadata": {},
   "outputs": [
    {
     "name": "stdout",
     "output_type": "stream",
     "text": [
      "[[(94.3686, 118.17999999999999, -354.83) 0]\n",
      " [(94.94460000000001, 117.924, -335.852) 0]\n",
      " [(93.5365, 109.88, -334.454) 0]\n",
      " ...\n",
      " [(10.93, -97.92999999999999, -17.05) 3]\n",
      " [(0.0, 25.88, -96.59) 3]\n",
      " [(0.0, -25.88, 96.59) 3]]\n"
     ]
    },
    {
     "name": "stderr",
     "output_type": "stream",
     "text": [
      "C:\\Users\\Mikhail\\AppData\\Local\\Temp\\ipykernel_6016\\630746645.py:12: VisibleDeprecationWarning: Creating an ndarray from ragged nested sequences (which is a list-or-tuple of lists-or-tuples-or ndarrays with different lengths or shapes) is deprecated. If you meant to do this, you must specify 'dtype=object' when creating the ndarray.\n",
      "  points = np.array(points)\n"
     ]
    }
   ],
   "source": [
    "data=[]\n",
    "data = dataReader(path)\n",
    "print(data)"
   ]
  },
  {
   "cell_type": "code",
   "execution_count": 1,
   "metadata": {},
   "outputs": [
    {
     "ename": "NameError",
     "evalue": "name 'plt' is not defined",
     "output_type": "error",
     "traceback": [
      "\u001b[1;31m---------------------------------------------------------------------------\u001b[0m",
      "\u001b[1;31mNameError\u001b[0m                                 Traceback (most recent call last)",
      "\u001b[1;32me:\\CPP_Codes\\k_means\\3DDrawer.ipynb 单元格 5\u001b[0m in \u001b[0;36m<cell line: 1>\u001b[1;34m()\u001b[0m\n\u001b[1;32m----> <a href='vscode-notebook-cell:/e%3A/CPP_Codes/k_means/3DDrawer.ipynb#W4sZmlsZQ%3D%3D?line=0'>1</a>\u001b[0m graphic \u001b[39m=\u001b[39m plt\u001b[39m.\u001b[39msubplot(\u001b[39m111\u001b[39m, projection\u001b[39m=\u001b[39m\u001b[39m\"\u001b[39m\u001b[39m3d\u001b[39m\u001b[39m\"\u001b[39m)\n\u001b[0;32m      <a href='vscode-notebook-cell:/e%3A/CPP_Codes/k_means/3DDrawer.ipynb#W4sZmlsZQ%3D%3D?line=1'>2</a>\u001b[0m size\u001b[39m=\u001b[39mdata\u001b[39m.\u001b[39msize\n\u001b[0;32m      <a href='vscode-notebook-cell:/e%3A/CPP_Codes/k_means/3DDrawer.ipynb#W4sZmlsZQ%3D%3D?line=2'>3</a>\u001b[0m bar\u001b[39m=\u001b[39mtqdm\u001b[39m.\u001b[39mtqdm(data)\n",
      "\u001b[1;31mNameError\u001b[0m: name 'plt' is not defined"
     ]
    }
   ],
   "source": [
    "\n",
    "graphic = plt.subplot(111, projection=\"3d\")\n",
    "size=data.size\n",
    "bar=tqdm.tqdm(data)\n",
    "for i in bar:\n",
    "    bar.set_description(f\"Now get element from center {i[1]}\")\n",
    "    graphic.scatter((i[0][0]), (i[0][1]), (i[0][2]), c=cnames[int(i[1])])\n",
    "plt.show()"
   ]
  },
  {
   "cell_type": "code",
   "execution_count": null,
   "metadata": {},
   "outputs": [],
   "source": [
    "graphic = plt.subplot(111, projection=\"3d\")\n",
    "size=data.size\n",
    "bar=tqdm.tqdm(data)\n",
    "for i in bar:\n",
    "    bar.set_description(f\"Now get element from center {i[1]}\")\n",
    "    graphic.scatter((i[0][0]), (i[0][1]), (i[0][2]), c=cnames[1])\n",
    "plt.show()"
   ]
  },
  {
   "cell_type": "code",
   "execution_count": null,
   "metadata": {},
   "outputs": [],
   "source": [
    "#mlab.points3d((i[0][0]), (i[0][1]), (i[0][2]), s, colormap=\"RdYlBu\", scale_factor=0.02, scale_mode='none')"
   ]
  }
 ],
 "metadata": {
  "kernelspec": {
   "display_name": "ai_evo_3_9_12",
   "language": "python",
   "name": "python3"
  },
  "language_info": {
   "codemirror_mode": {
    "name": "ipython",
    "version": 3
   },
   "file_extension": ".py",
   "mimetype": "text/x-python",
   "name": "python",
   "nbconvert_exporter": "python",
   "pygments_lexer": "ipython3",
   "version": "3.9.12"
  },
  "orig_nbformat": 4,
  "vscode": {
   "interpreter": {
    "hash": "d46944a7946e912210a880f405991cf4895b2f45d1d0dc8cc92632bd109d576d"
   }
  }
 },
 "nbformat": 4,
 "nbformat_minor": 2
}
